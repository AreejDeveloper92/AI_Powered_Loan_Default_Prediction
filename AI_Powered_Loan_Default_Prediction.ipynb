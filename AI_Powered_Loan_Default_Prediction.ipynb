{
  "nbformat": 4,
  "nbformat_minor": 0,
  "metadata": {
    "colab": {
      "provenance": []
    },
    "kernelspec": {
      "name": "python3",
      "display_name": "Python 3"
    },
    "language_info": {
      "name": "python"
    }
  },
  "cells": [
    {
      "cell_type": "markdown",
      "source": [
        "# **SmartLend: AI-Powered Loan Default Prediction**"
      ],
      "metadata": {
        "id": "nV7KptfMLqzd"
      }
    },
    {
      "cell_type": "markdown",
      "source": [
        " Dataset Link :https://www.kaggle.com/datasets/sahideseker/loan-default-prediction-dataset"
      ],
      "metadata": {
        "id": "fWs5F5i8L3dc"
      }
    },
    {
      "cell_type": "markdown",
      "source": [
        "**Problem Statement**\n",
        "\n",
        "Banks and financial institutions want to know *whether a loan applicant is likely to repay the loan* or *default*"
      ],
      "metadata": {
        "id": "LUBTt12FMgRZ"
      }
    },
    {
      "cell_type": "markdown",
      "source": [
        "# Data Collection & Cleaning"
      ],
      "metadata": {
        "id": "RNfQH_VOMq1y"
      }
    },
    {
      "cell_type": "code",
      "source": [
        "import pandas as pd\n",
        "import numpy as np\n",
        "\n",
        "# 1. Gather dataset (CSV file read)\n",
        "df = pd.read_csv(\"/content/loan_default_prediction.csv\")\n",
        "\n",
        "print(\"Original Shape:\", df.shape)\n",
        "print(\"Missing Values:\\n\", df.isnull().sum())\n",
        "\n",
        "# 2. Handle missing values\n",
        "# Option A: Fill missing numeric values with median\n",
        "df.fillna(df.median(numeric_only=True), inplace=True)\n",
        "\n",
        "# Option B: For categorical columns, fill with mode\n",
        "for col in df.select_dtypes(include=['object']).columns:\n",
        "    df[col].fillna(df[col].mode()[0], inplace=True)\n",
        "\n",
        "print(\"\\nAfter Handling Missing Values:\\n\", df.isnull().sum())\n",
        "\n",
        "# 3. Detect & Fix Outliers using IQR method\n",
        "for col in df.select_dtypes(include=[np.number]).columns:\n",
        "    Q1 = df[col].quantile(0.25)\n",
        "    Q3 = df[col].quantile(0.75)\n",
        "    IQR = Q3 - Q1\n",
        "    lower = Q1 - 1.5 * IQR\n",
        "    upper = Q3 + 1.5 * IQR\n",
        "    # Cap the outliers (replace with boundary values)\n",
        "    df[col] = np.where(df[col] < lower, lower, df[col])\n",
        "    df[col] = np.where(df[col] > upper, upper, df[col])\n",
        "\n",
        "print(\"\\nOutliers handled successfully!\")\n",
        "print(\"Final Shape:\", df.shape)\n",
        "\n",
        "# Save clean dataset\n",
        "df.to_csv(\"loan_data_clean.csv\", index=False)\n"
      ],
      "metadata": {
        "colab": {
          "base_uri": "https://localhost:8080/"
        },
        "id": "FeRIuVYHM89p",
        "outputId": "3c82edfb-2f36-42fe-ada3-c9aac266c59b"
      },
      "execution_count": 2,
      "outputs": [
        {
          "output_type": "stream",
          "name": "stdout",
          "text": [
            "Original Shape: (1000, 5)\n",
            "Missing Values:\n",
            " loan_id              0\n",
            "income               0\n",
            "loan_amount          0\n",
            "employment_status    0\n",
            "default              0\n",
            "dtype: int64\n",
            "\n",
            "After Handling Missing Values:\n",
            " loan_id              0\n",
            "income               0\n",
            "loan_amount          0\n",
            "employment_status    0\n",
            "default              0\n",
            "dtype: int64\n",
            "\n",
            "Outliers handled successfully!\n",
            "Final Shape: (1000, 5)\n"
          ]
        },
        {
          "output_type": "stream",
          "name": "stderr",
          "text": [
            "/tmp/ipython-input-667991972.py:16: FutureWarning: A value is trying to be set on a copy of a DataFrame or Series through chained assignment using an inplace method.\n",
            "The behavior will change in pandas 3.0. This inplace method will never work because the intermediate object on which we are setting values always behaves as a copy.\n",
            "\n",
            "For example, when doing 'df[col].method(value, inplace=True)', try using 'df.method({col: value}, inplace=True)' or df[col] = df[col].method(value) instead, to perform the operation inplace on the original object.\n",
            "\n",
            "\n",
            "  df[col].fillna(df[col].mode()[0], inplace=True)\n"
          ]
        }
      ]
    },
    {
      "cell_type": "markdown",
      "source": [
        "# Feature Engineering & EDA"
      ],
      "metadata": {
        "id": "i8IsjS5BNhZY"
      }
    },
    {
      "cell_type": "code",
      "source": [],
      "metadata": {
        "id": "zTiQ6_LmNp36"
      },
      "execution_count": null,
      "outputs": []
    }
  ]
}